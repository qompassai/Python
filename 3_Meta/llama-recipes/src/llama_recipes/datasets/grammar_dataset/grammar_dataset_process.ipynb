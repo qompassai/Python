version https://git-lfs.github.com/spec/v1
oid sha256:873439060c7673bcc6f97c2664845abfa56ada0e239b0411ba7a1da097d91930
size 10596
