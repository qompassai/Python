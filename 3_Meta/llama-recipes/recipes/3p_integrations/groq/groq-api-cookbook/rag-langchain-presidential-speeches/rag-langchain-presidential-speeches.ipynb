version https://git-lfs.github.com/spec/v1
oid sha256:a7d7fece77c084063312a95934668fd054800d2cc1ec16ebaf5c9e30dd7fe34b
size 36940
