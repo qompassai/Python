version https://git-lfs.github.com/spec/v1
oid sha256:9737f8f5f3e3b221b43efb1ea1bd08c5163a993622c519db38c353c90f4d08cd
size 41998
