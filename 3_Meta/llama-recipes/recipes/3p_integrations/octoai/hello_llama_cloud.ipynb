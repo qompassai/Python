version https://git-lfs.github.com/spec/v1
oid sha256:14b308377bc4bf9b705bf04eb3fc9bbd9230fbc1a72f4d58118a290c8d591d2c
size 14475
