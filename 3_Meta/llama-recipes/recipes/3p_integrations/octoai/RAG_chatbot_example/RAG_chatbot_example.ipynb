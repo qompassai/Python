version https://git-lfs.github.com/spec/v1
oid sha256:8d23a2347120306ade7fd28b14d6c4853bd3d35a15fece1dab6a6b5dc4ba3b24
size 116225
