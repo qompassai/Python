version https://git-lfs.github.com/spec/v1
oid sha256:8ef17951d218c3047030679f04a670af8eec08cdd1e6786b5d842f37165c7228
size 22177
