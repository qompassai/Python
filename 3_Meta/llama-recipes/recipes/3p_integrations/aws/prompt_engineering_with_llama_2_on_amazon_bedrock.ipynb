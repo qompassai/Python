version https://git-lfs.github.com/spec/v1
oid sha256:803cce89edb7943cb5b5a27b045d8b65e532b88d338a77e2f6d70c648d72cdda
size 87375
