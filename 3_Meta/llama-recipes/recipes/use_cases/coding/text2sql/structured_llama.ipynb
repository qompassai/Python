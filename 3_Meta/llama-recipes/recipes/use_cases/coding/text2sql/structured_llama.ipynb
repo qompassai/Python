version https://git-lfs.github.com/spec/v1
oid sha256:598a79d68816a31289f2ccdacc5e6dac3571375c36723d8ec3374901feab4fa5
size 7872
