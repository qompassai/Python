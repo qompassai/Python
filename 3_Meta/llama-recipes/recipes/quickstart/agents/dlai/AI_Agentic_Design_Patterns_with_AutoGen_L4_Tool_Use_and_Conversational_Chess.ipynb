version https://git-lfs.github.com/spec/v1
oid sha256:169abe3855704b51e66f24d8bda66058701ea7aa804bd4cb993c29365920f7f6
size 9207
