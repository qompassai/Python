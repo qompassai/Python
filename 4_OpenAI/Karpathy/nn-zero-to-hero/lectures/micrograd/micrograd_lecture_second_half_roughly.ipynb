version https://git-lfs.github.com/spec/v1
oid sha256:4d264c8328730688412e98480e0cf54e43446ad942cec0b441842fa0b7a96048
size 76357
