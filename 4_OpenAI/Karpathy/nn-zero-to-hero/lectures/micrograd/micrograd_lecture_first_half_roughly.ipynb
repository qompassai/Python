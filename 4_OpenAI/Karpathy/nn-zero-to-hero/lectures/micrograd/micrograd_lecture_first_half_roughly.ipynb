version https://git-lfs.github.com/spec/v1
oid sha256:b3e6d408fee3631c8f5acae4642666c2df37127b35ac9ef21c9190a68ffc4e53
size 81042
