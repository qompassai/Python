# Cell 1: Import libraries
import polars as pl
import matplotlib.pyplot as plt
import seaborn as sns

# Cell 2: Load data
df = pl.read_parquet("uk_pv_data/5min.parquet")

# Cell 3: Display basic information
print(df.head())
print(df.shape)
print(df.dtypes)

# Cell 4: Calculate summary statistics
print(df.describe())

# Cell 5: Convert to pandas and plot
pdf = df.to_pandas()

plt.figure(figsize=(12, 6))
sns.set_style("whitegrid")

single_system = pdf[pdf['ss_id'] == pdf['ss_id'].unique()[0]]
sns.lineplot(x='timestamp', y='generation_wh', data=single_system)
plt.title("Solar Generation for a Single System")
plt.xlabel("Timestamp")
plt.ylabel("Generation (Wh)")
plt.xticks(rotation=45)
plt.tight_layout()
plt.show()

