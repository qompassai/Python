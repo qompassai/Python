version https://git-lfs.github.com/spec/v1
oid sha256:be7c397f6c4167ca65a36e3bf2291d0e801622cdedc6d2820296b534017310b6
size 27826
