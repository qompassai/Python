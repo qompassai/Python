version https://git-lfs.github.com/spec/v1
oid sha256:f565d3e930b6248734c48d1efb89458f47ca99e5cdde0be40e9f9913ed63fa9d
size 32969
