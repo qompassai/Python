version https://git-lfs.github.com/spec/v1
oid sha256:46b0e3cf6173177a992073e69dfdf62e505498ec2d4dd8490047e593fb00e839
size 13256
