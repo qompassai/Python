version https://git-lfs.github.com/spec/v1
oid sha256:7a13d268845795283627765cec7894fa3fcc7c2e80692df6a7cfbcf7b8b0d8ad
size 27031
