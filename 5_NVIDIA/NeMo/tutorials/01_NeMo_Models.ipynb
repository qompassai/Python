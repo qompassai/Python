version https://git-lfs.github.com/spec/v1
oid sha256:c170a59e2d4d477ba478807d5a34965dc2f44518eb9746417f8d0efe8176a6a5
size 104904
