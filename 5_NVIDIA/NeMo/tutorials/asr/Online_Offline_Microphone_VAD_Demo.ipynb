version https://git-lfs.github.com/spec/v1
oid sha256:ef827d3ce04fea229e9ae4743da542531bfb3aecf674c2a0f7d18b6ff67e987a
size 37149
