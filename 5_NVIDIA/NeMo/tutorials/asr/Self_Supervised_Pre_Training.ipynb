version https://git-lfs.github.com/spec/v1
oid sha256:1da7672dd359438d45bcf653b12a61e03f4bcba24aa12016ff4aa8aa167ae38d
size 27716
