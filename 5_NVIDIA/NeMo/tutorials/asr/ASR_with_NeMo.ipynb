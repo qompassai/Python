version https://git-lfs.github.com/spec/v1
oid sha256:f0fc682ccf3ec07923767df12ec12fb9081456756dad0bdbbd9f8482b33821cf
size 68602
