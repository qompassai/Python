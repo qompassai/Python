version https://git-lfs.github.com/spec/v1
oid sha256:af806f74ab417c9e0748dd18f0f8a18f9a297280a487facc00ed08ba8961fbef
size 16946
