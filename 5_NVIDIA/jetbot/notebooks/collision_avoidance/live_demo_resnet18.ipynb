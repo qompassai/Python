version https://git-lfs.github.com/spec/v1
oid sha256:647721a4bf693c0f13e03d0d7a0f83f7fd2b10c49e0aeb765146f765ab50eb1d
size 10005
