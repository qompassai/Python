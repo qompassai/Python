version https://git-lfs.github.com/spec/v1
oid sha256:bbadf06b11671c6aa898fa712afe2f6206d3e3faef52a16e9f5b684a281d7f08
size 304501
